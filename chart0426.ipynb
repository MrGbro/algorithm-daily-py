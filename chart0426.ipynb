{
 "cells": [
  {
   "metadata": {},
   "cell_type": "code",
   "outputs": [],
   "execution_count": null,
   "source": "# 基础语法使用",
   "id": "d33b1e95fd86019e"
  },
  {
   "metadata": {
    "ExecuteTime": {
     "end_time": "2025-04-26T05:59:07.575099Z",
     "start_time": "2025-04-26T05:59:07.570729Z"
    }
   },
   "cell_type": "code",
   "source": [
    "import json\n",
    "import os\n",
    "\n",
    "print(os.name)"
   ],
   "id": "6c02f09dd0eb33a6",
   "outputs": [
    {
     "name": "stdout",
     "output_type": "stream",
     "text": [
      "nt\n"
     ]
    }
   ],
   "execution_count": 1
  },
  {
   "metadata": {},
   "cell_type": "markdown",
   "source": [
    "# 算法题-每日一题目\n",
    "链表3+树3+动态规划1\n",
    "# python基础语法学习\n",
    "io编程，进程和线程"
   ],
   "id": "15f459c179fb636d"
  },
  {
   "metadata": {
    "ExecuteTime": {
     "end_time": "2025-04-26T06:16:16.335406Z",
     "start_time": "2025-04-26T06:16:16.331902Z"
    }
   },
   "cell_type": "code",
   "source": [
    "print(os.environ.get('X', 'default'))\n",
    "print(os.path.abspath(\".\"))\n",
    "\n",
    "# os.mkdir('ostmp')"
   ],
   "id": "87d3427a134c21",
   "outputs": [
    {
     "name": "stdout",
     "output_type": "stream",
     "text": [
      "default\n",
      "E:\\Code\\Python\\daily-algo-python\n"
     ]
    }
   ],
   "execution_count": 7
  },
  {
   "metadata": {},
   "cell_type": "markdown",
   "source": "# 序列化操作",
   "id": "f86353dc48898f88"
  },
  {
   "metadata": {
    "ExecuteTime": {
     "end_time": "2025-04-26T06:22:27.573684Z",
     "start_time": "2025-04-26T06:22:27.569838Z"
    }
   },
   "cell_type": "code",
   "source": [
    "d = dict(name='bob', age=20, score=88)\n",
    "print(d['name'])\n",
    "print(d['age'])\n",
    "print(d['score'])\n",
    "\n",
    "import json\n",
    "\n",
    "dmp = json.dumps(d)\n",
    "print(dmp)"
   ],
   "id": "ad9d5327169e5eb",
   "outputs": [
    {
     "name": "stdout",
     "output_type": "stream",
     "text": [
      "bob\n",
      "20\n",
      "88\n",
      "{\"name\": \"bob\", \"age\": 20, \"score\": 88}\n"
     ]
    }
   ],
   "execution_count": 12
  },
  {
   "metadata": {},
   "cell_type": "markdown",
   "source": "# 多线程&多进程",
   "id": "ce8503affba25a96"
  },
  {
   "metadata": {
    "ExecuteTime": {
     "end_time": "2025-04-26T08:17:03.486185Z",
     "start_time": "2025-04-26T08:17:03.482169Z"
    }
   },
   "cell_type": "code",
   "source": [
    "import os\n",
    "\n",
    "# cannot work on windows\n",
    "# pid = os.fork()\n",
    "# if pid == 0:\n",
    "#     print(\"I am a child process (%s) and my parent is %s\" % (os.getpid(),os.getppid()))\n",
    "# else:\n",
    "#     print(\"I (%s) just created a child process (%s)\" % (os.getpid(),pid))"
   ],
   "id": "d1a99856258fd7ea",
   "outputs": [],
   "execution_count": 15
  },
  {
   "metadata": {},
   "cell_type": "markdown",
   "source": "# 算法题",
   "id": "4f5943a57a3d0964"
  },
  {
   "metadata": {},
   "cell_type": "code",
   "outputs": [],
   "execution_count": null,
   "source": [
    "from common.base import ListNode\n",
    "from typing import Optional\n",
    "\n",
    "\n",
    "# 2807\n",
    "class Solution2807:\n",
    "    def insertGreatestCommonDivisors(self, head: Optional[ListNode]) -> Optional[ListNode]:\n",
    "        def divisor(a: int, b: int) -> int:\n",
    "            while b:\n",
    "                a, b = b, a % b\n",
    "            return a\n",
    "\n",
    "        dummy = ListNode(-1)\n",
    "        cur = dummy\n",
    "        while head:\n",
    "            a = head.val\n",
    "            cur.next = head\n",
    "            cur = cur.next\n",
    "            head = head.next\n",
    "            if not head:\n",
    "                break\n",
    "            b = head.val\n",
    "            cur.next = ListNode(divisor(a, b))\n",
    "            cur = cur.next\n",
    "        return dummy.next"
   ],
   "id": "b1aa288ed2b21746"
  },
  {
   "metadata": {},
   "cell_type": "markdown",
   "source": "### 147 对链表进行插入排序",
   "id": "55e0d6e659455e20"
  },
  {
   "metadata": {},
   "cell_type": "code",
   "outputs": [],
   "execution_count": null,
   "source": [
    "class Solution:\n",
    "    def insertionSortList(self, head: Optional[ListNode]) -> Optional[ListNode]:\n",
    "        dummy = ListNode(-5001)\n",
    "        cur = dummy\n",
    "        while head:\n",
    "            v = head.val\n",
    "            if v >= cur.val:\n",
    "                cur.next = ListNode(v)\n",
    "                cur = cur.next\n",
    "            else:\n",
    "                nxt = dummy.next\n",
    "                last = dummy\n",
    "                while nxt:\n",
    "                    if last.val <= v < nxt.val:\n",
    "                        tmp = last.next\n",
    "                        last.next = ListNode(v, tmp)\n",
    "                    last = nxt\n",
    "                    nxt = nxt.next\n",
    "            head = head.next\n",
    "        cur.next = None\n",
    "        return dummy.next"
   ],
   "id": "9f2fdf1e79bf3802"
  },
  {
   "metadata": {},
   "cell_type": "markdown",
   "source": "### LCR 029 循环有序列表的插入",
   "id": "3167bdbff4712d0b"
  },
  {
   "metadata": {
    "ExecuteTime": {
     "end_time": "2025-04-26T13:30:27.564942Z",
     "start_time": "2025-04-26T13:28:57.920301Z"
    }
   },
   "cell_type": "code",
   "source": [
    "from typing import List\n",
    "\n",
    "\n",
    "class Node:\n",
    "    def __init__(self, val=None, next=None):\n",
    "        self.val = val\n",
    "        self.next = next\n",
    "\n",
    "\n",
    "class Solution:\n",
    "    def insert(self, head: 'Node', insertVal: int) -> 'Node':\n",
    "        nodes = []\n",
    "        nums = set()\n",
    "        tmp = head\n",
    "        while tmp.val not in nums:\n",
    "            nums.add(tmp.val)\n",
    "            nodes.append(tmp)\n",
    "            tmp = tmp.next\n",
    "\n",
    "        nodes.sort(key=lambda x: x.val)\n",
    "        idx = -1\n",
    "        for i in range(len(nodes)):\n",
    "            pre = nodes[i]\n",
    "            if pre.val >= insertVal:\n",
    "                idx = i-1\n",
    "                break\n",
    "        if idx == -1:\n",
    "            nodes[-1].next = ListNode(insertVal,nodes[0])\n",
    "        else:\n",
    "            nodes[idx].next = ListNode(insertVal,nodes[idx+1])\n",
    "        return  head\n",
    "\n",
    "\n",
    "\n",
    "s = Node(1)\n",
    "f = Node(4, s)\n",
    "head = Node(3, f)\n",
    "s.next = head\n",
    "\n",
    "solution = Solution()\n",
    "solution.insert(head, 2)"
   ],
   "id": "ded32b20b70fc36f",
   "outputs": [
    {
     "ename": "KeyboardInterrupt",
     "evalue": "",
     "output_type": "error",
     "traceback": [
      "\u001B[31m---------------------------------------------------------------------------\u001B[39m",
      "\u001B[31mKeyboardInterrupt\u001B[39m                         Traceback (most recent call last)",
      "\u001B[36mCell\u001B[39m\u001B[36m \u001B[39m\u001B[32mIn[17]\u001B[39m\u001B[32m, line 37\u001B[39m\n\u001B[32m     34\u001B[39m s.next = head\n\u001B[32m     36\u001B[39m solution = Solution()\n\u001B[32m---> \u001B[39m\u001B[32m37\u001B[39m \u001B[43msolution\u001B[49m\u001B[43m.\u001B[49m\u001B[43minsert\u001B[49m\u001B[43m(\u001B[49m\u001B[43mhead\u001B[49m\u001B[43m,\u001B[49m\u001B[43m \u001B[49m\u001B[32;43m2\u001B[39;49m\u001B[43m)\u001B[49m\n",
      "\u001B[36mCell\u001B[39m\u001B[36m \u001B[39m\u001B[32mIn[17]\u001B[39m\u001B[32m, line 15\u001B[39m, in \u001B[36mSolution.insert\u001B[39m\u001B[34m(self, head, insertVal)\u001B[39m\n\u001B[32m     13\u001B[39m slow = head\n\u001B[32m     14\u001B[39m fast = head.next\n\u001B[32m---> \u001B[39m\u001B[32m15\u001B[39m \u001B[38;5;28;01mwhile\u001B[39;00m \u001B[38;5;28;01mTrue\u001B[39;00m:\n\u001B[32m     16\u001B[39m     \u001B[38;5;28;01mif\u001B[39;00m slow.val <= insertVal <= fast.val:\n\u001B[32m     17\u001B[39m         slow.next = ListNode(insertVal, fast)\n",
      "\u001B[36mFile \u001B[39m\u001B[32m_pydevd_bundle\\\\pydevd_cython_win32_312_64.pyx:1187\u001B[39m, in \u001B[36m_pydevd_bundle.pydevd_cython_win32_312_64.SafeCallWrapper.__call__\u001B[39m\u001B[34m()\u001B[39m\n",
      "\u001B[36mFile \u001B[39m\u001B[32m_pydevd_bundle\\\\pydevd_cython_win32_312_64.pyx:627\u001B[39m, in \u001B[36m_pydevd_bundle.pydevd_cython_win32_312_64.PyDBFrame.trace_dispatch\u001B[39m\u001B[34m()\u001B[39m\n",
      "\u001B[36mFile \u001B[39m\u001B[32m_pydevd_bundle\\\\pydevd_cython_win32_312_64.pyx:1103\u001B[39m, in \u001B[36m_pydevd_bundle.pydevd_cython_win32_312_64.PyDBFrame.trace_dispatch\u001B[39m\u001B[34m()\u001B[39m\n",
      "\u001B[36mFile \u001B[39m\u001B[32m_pydevd_bundle\\\\pydevd_cython_win32_312_64.pyx:1061\u001B[39m, in \u001B[36m_pydevd_bundle.pydevd_cython_win32_312_64.PyDBFrame.trace_dispatch\u001B[39m\u001B[34m()\u001B[39m\n",
      "\u001B[36mFile \u001B[39m\u001B[32mD:\\SoftWare\\JetBrains\\PyCharm\\plugins\\python-ce\\helpers\\jupyter_debug\\pydev_jupyter_plugin.py:171\u001B[39m, in \u001B[36mstop\u001B[39m\u001B[34m(plugin, pydb, frame, event, args, stop_info, arg, step_cmd)\u001B[39m\n\u001B[32m    169\u001B[39m     frame = suspend_jupyter(main_debugger, thread, frame, step_cmd)\n\u001B[32m    170\u001B[39m     \u001B[38;5;28;01mif\u001B[39;00m frame:\n\u001B[32m--> \u001B[39m\u001B[32m171\u001B[39m         \u001B[43mmain_debugger\u001B[49m\u001B[43m.\u001B[49m\u001B[43mdo_wait_suspend\u001B[49m\u001B[43m(\u001B[49m\u001B[43mthread\u001B[49m\u001B[43m,\u001B[49m\u001B[43m \u001B[49m\u001B[43mframe\u001B[49m\u001B[43m,\u001B[49m\u001B[43m \u001B[49m\u001B[43mevent\u001B[49m\u001B[43m,\u001B[49m\u001B[43m \u001B[49m\u001B[43marg\u001B[49m\u001B[43m)\u001B[49m\n\u001B[32m    172\u001B[39m         \u001B[38;5;28;01mreturn\u001B[39;00m \u001B[38;5;28;01mTrue\u001B[39;00m\n\u001B[32m    173\u001B[39m \u001B[38;5;28;01mreturn\u001B[39;00m \u001B[38;5;28;01mFalse\u001B[39;00m\n",
      "\u001B[36mFile \u001B[39m\u001B[32mD:\\SoftWare\\JetBrains\\PyCharm\\plugins\\python-ce\\helpers\\pydev\\pydevd.py:1220\u001B[39m, in \u001B[36mPyDB.do_wait_suspend\u001B[39m\u001B[34m(self, thread, frame, event, arg, send_suspend_message, is_unhandled_exception)\u001B[39m\n\u001B[32m   1217\u001B[39m         from_this_thread.append(frame_id)\n\u001B[32m   1219\u001B[39m \u001B[38;5;28;01mwith\u001B[39;00m \u001B[38;5;28mself\u001B[39m._threads_suspended_single_notification.notify_thread_suspended(thread_id, stop_reason):\n\u001B[32m-> \u001B[39m\u001B[32m1220\u001B[39m     \u001B[38;5;28;43mself\u001B[39;49m\u001B[43m.\u001B[49m\u001B[43m_do_wait_suspend\u001B[49m\u001B[43m(\u001B[49m\u001B[43mthread\u001B[49m\u001B[43m,\u001B[49m\u001B[43m \u001B[49m\u001B[43mframe\u001B[49m\u001B[43m,\u001B[49m\u001B[43m \u001B[49m\u001B[43mevent\u001B[49m\u001B[43m,\u001B[49m\u001B[43m \u001B[49m\u001B[43marg\u001B[49m\u001B[43m,\u001B[49m\u001B[43m \u001B[49m\u001B[43msuspend_type\u001B[49m\u001B[43m,\u001B[49m\u001B[43m \u001B[49m\u001B[43mfrom_this_thread\u001B[49m\u001B[43m)\u001B[49m\n",
      "\u001B[36mFile \u001B[39m\u001B[32mD:\\SoftWare\\JetBrains\\PyCharm\\plugins\\python-ce\\helpers\\pydev\\pydevd.py:1235\u001B[39m, in \u001B[36mPyDB._do_wait_suspend\u001B[39m\u001B[34m(self, thread, frame, event, arg, suspend_type, from_this_thread)\u001B[39m\n\u001B[32m   1232\u001B[39m             \u001B[38;5;28mself\u001B[39m._call_mpl_hook()\n\u001B[32m   1234\u001B[39m         \u001B[38;5;28mself\u001B[39m.process_internal_commands()\n\u001B[32m-> \u001B[39m\u001B[32m1235\u001B[39m         \u001B[43mtime\u001B[49m\u001B[43m.\u001B[49m\u001B[43msleep\u001B[49m\u001B[43m(\u001B[49m\u001B[32;43m0.01\u001B[39;49m\u001B[43m)\u001B[49m\n\u001B[32m   1237\u001B[39m \u001B[38;5;28mself\u001B[39m.cancel_async_evaluation(get_current_thread_id(thread), \u001B[38;5;28mstr\u001B[39m(\u001B[38;5;28mid\u001B[39m(frame)))\n\u001B[32m   1239\u001B[39m \u001B[38;5;66;03m# process any stepping instructions\u001B[39;00m\n",
      "\u001B[31mKeyboardInterrupt\u001B[39m: "
     ]
    }
   ],
   "execution_count": 17
  },
  {
   "metadata": {},
   "cell_type": "markdown",
   "source": "### 反转链表",
   "id": "c4a4fad671cba777"
  },
  {
   "metadata": {},
   "cell_type": "code",
   "outputs": [],
   "execution_count": null,
   "source": [
    "class Solution:\n",
    "    def reverseList(self, head: Optional[ListNode]) -> Optional[ListNode]:\n",
    "        if not head or not head.next:\n",
    "            return head\n",
    "        reverse = self.reverseList(head.next)\n",
    "        head.next.next = head\n",
    "        head.next = None\n",
    "        return reverse"
   ],
   "id": "c5df3ee193f9465"
  }
 ],
 "metadata": {
  "kernelspec": {
   "display_name": "Python 3",
   "language": "python",
   "name": "python3"
  },
  "language_info": {
   "codemirror_mode": {
    "name": "ipython",
    "version": 2
   },
   "file_extension": ".py",
   "mimetype": "text/x-python",
   "name": "python",
   "nbconvert_exporter": "python",
   "pygments_lexer": "ipython2",
   "version": "2.7.6"
  }
 },
 "nbformat": 4,
 "nbformat_minor": 5
}
