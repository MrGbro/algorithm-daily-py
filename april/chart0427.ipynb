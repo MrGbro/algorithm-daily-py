{
 "cells": [
  {
   "cell_type": "markdown",
   "metadata": {},
   "source": [
    "### 每日三题"
   ]
  },
  {
   "cell_type": "markdown",
   "metadata": {},
   "source": [
    "#### LeetCode 228"
   ]
  },
  {
   "cell_type": "code",
   "execution_count": 4,
   "metadata": {},
   "outputs": [
    {
     "data": {
      "text/plain": [
       "['0', '2->4', '6', '8->9']"
      ]
     },
     "execution_count": 4,
     "metadata": {},
     "output_type": "execute_result"
    }
   ],
   "source": [
    "from typing import List\n",
    "\n",
    "\n",
    "class Solution:\n",
    "    def summaryRanges(self, nums: List[int]) -> List[str]:\n",
    "        res = []\n",
    "        start  = nums[0]\n",
    "        for i in range(1,len(nums)):\n",
    "            if nums[i]-nums[i-1] != 1:\n",
    "                if nums[i-1] == start:\n",
    "                    res.append(str(start))\n",
    "                else:\n",
    "                    res.append(str(start)+\"->\"+str(nums[i-1]))\n",
    "                start = nums[i]\n",
    "        if start != nums[-1]:\n",
    "            res.append(str(start)+\"->\"+str(nums[-1]))\n",
    "        else:\n",
    "            res.append(str(start))\n",
    "        return res\n",
    "s = Solution()\n",
    "s.summaryRanges([0,1,2,4,5,7])\n",
    "s.summaryRanges([0,2,3,4,6,8,9])"
   ]
  }
 ],
 "metadata": {
  "kernelspec": {
   "display_name": ".venv",
   "language": "python",
   "name": "python3"
  },
  "language_info": {
   "codemirror_mode": {
    "name": "ipython",
    "version": 3
   },
   "file_extension": ".py",
   "mimetype": "text/x-python",
   "name": "python",
   "nbconvert_exporter": "python",
   "pygments_lexer": "ipython3",
   "version": "3.12.6"
  }
 },
 "nbformat": 4,
 "nbformat_minor": 2
}
