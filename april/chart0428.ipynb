{
 "cells": [
  {
   "cell_type": "markdown",
   "id": "8fe0ce7a",
   "metadata": {},
   "source": [
    "### 每日算法联系-链表&二叉树"
   ]
  },
  {
   "cell_type": "code",
   "execution_count": 19,
   "id": "c73e13c2",
   "metadata": {},
   "outputs": [],
   "source": [
    "from typing import Optional\n",
    "\n",
    "\n",
    "class ListNode:\n",
    "\n",
    "    def __init__(self, val: int, next: \"ListNode\" = None):\n",
    "        self.val = val\n",
    "        self.next = next\n",
    "\n",
    "\n",
    "# 19\n",
    "class Solution:\n",
    "    def removeNthFromEnd(self, head: Optional[ListNode], n: int) -> Optional[ListNode]:\n",
    "        pos = 0\n",
    "        fast = head\n",
    "        while pos < n and fast:\n",
    "            fast = fast.next\n",
    "        if pos < n:\n",
    "            return None\n",
    "        slow = head\n",
    "        pre = None\n",
    "        while fast:\n",
    "            pre = slow\n",
    "            slow = slow.next\n",
    "            fast = fast.next\n",
    "        if pre:\n",
    "            pre.next = pre.next.next\n",
    "            return head\n",
    "        else:\n",
    "            return head.next"
   ]
  },
  {
   "cell_type": "markdown",
   "id": "8c4a2d5c",
   "metadata": {},
   "source": [
    "#### 61 旋转链表"
   ]
  },
  {
   "cell_type": "code",
   "execution_count": 20,
   "id": "7745ef75",
   "metadata": {},
   "outputs": [],
   "source": [
    "class ListNode:\n",
    "\n",
    "    def __init__(self, val: int, next: \"ListNode\" = None):\n",
    "        self.val = val\n",
    "        self.next = next\n",
    "\n",
    "\n",
    "class Solution61:\n",
    "    def rotateRight(self, head: Optional[ListNode], k: int) -> Optional[ListNode]:\n",
    "        sz = 0\n",
    "        tm = head\n",
    "        while tm:\n",
    "            sz += 1\n",
    "            tm = tm.next\n",
    "        move = k % sz\n",
    "        if move == 0:\n",
    "            return head\n",
    "        pos = 0\n",
    "        fast = head\n",
    "        while move > pos and fast:\n",
    "            fast = fast.next\n",
    "            pos += 1\n",
    "        slow = head\n",
    "        while fast.next:\n",
    "            fast = fast.next\n",
    "            slow = slow.next\n",
    "        tmp = slow.next\n",
    "        slow.next = None\n",
    "        fast.next = head\n",
    "        return tmp"
   ]
  },
  {
   "cell_type": "markdown",
   "id": "cfad363d",
   "metadata": {},
   "source": [
    "#### 1271 交换链表节点"
   ]
  },
  {
   "cell_type": "code",
   "execution_count": 21,
   "id": "bb03c772",
   "metadata": {},
   "outputs": [],
   "source": [
    "class Solution1271:\n",
    "    def swapNodes(self, head: Optional[ListNode], k: int) -> Optional[ListNode]:\n",
    "        pos = 0\n",
    "        fast = head\n",
    "        kpos = None\n",
    "        while k > pos and fast:\n",
    "            kpos = fast\n",
    "            fast = fast.next\n",
    "            pos += 1\n",
    "        slow = head\n",
    "        while fast:\n",
    "            slow = slow.next\n",
    "            fast = fast.next\n",
    "        tmp = slow.val\n",
    "        slow.val = kpos.val\n",
    "        kpos.val = tmp\n",
    "        return head"
   ]
  },
  {
   "cell_type": "markdown",
   "id": "44bb59cc",
   "metadata": {},
   "source": [
    "#### 876 链表中间节点"
   ]
  },
  {
   "cell_type": "code",
   "execution_count": 22,
   "id": "3c6ae912",
   "metadata": {},
   "outputs": [],
   "source": [
    "class Solution:\n",
    "    def middleNode(self, head: Optional[ListNode]) -> Optional[ListNode]:\n",
    "        slow = head\n",
    "        fast = head\n",
    "        while fast and fast.next:\n",
    "            slow = slow.next\n",
    "            fast = fast.next.next\n",
    "        return slow"
   ]
  },
  {
   "cell_type": "markdown",
   "id": "789113e1",
   "metadata": {},
   "source": [
    "#### 2095 删除链表中间节点  \n",
    "核心要点：知道要删除节点的前一个节点"
   ]
  },
  {
   "cell_type": "code",
   "execution_count": 23,
   "id": "8959d2ec",
   "metadata": {},
   "outputs": [],
   "source": [
    "class Solution:\n",
    "    def deleteMiddle(self, head: Optional[ListNode]) -> Optional[ListNode]:\n",
    "        slow = head\n",
    "        fast = head\n",
    "        pre = None\n",
    "        while fast and fast.next:\n",
    "            pre = slow\n",
    "            slow = slow.next\n",
    "            fast = fast.next.next\n",
    "        pre.next = slow.next\n",
    "        return head"
   ]
  },
  {
   "cell_type": "markdown",
   "id": "576f1a77",
   "metadata": {},
   "source": [
    "#### 234 回文链表"
   ]
  },
  {
   "cell_type": "code",
   "execution_count": 24,
   "id": "975410aa",
   "metadata": {},
   "outputs": [],
   "source": [
    "from typing import List\n",
    "\n",
    "\n",
    "class ListNode:\n",
    "\n",
    "    def __init__(self, val: int, next: \"ListNode\" = None):\n",
    "        self.val = val\n",
    "        self.next = next\n",
    "\n",
    "\n",
    "def isPalindrome(self, head: ListNode) -> bool:\n",
    "    def reverse(node: ListNode) -> ListNode:\n",
    "        dummy: ListNode = None\n",
    "        while node:\n",
    "            tmp = node\n",
    "            node = node.next\n",
    "            tmp.next = dummy\n",
    "            dummy = tmp\n",
    "        return dummy\n",
    "\n",
    "    if not head.next:\n",
    "        return True\n",
    "    slow = head\n",
    "    fast = head\n",
    "    while fast and fast.next:\n",
    "        slow = slow.next\n",
    "        fast = fast.next.next\n",
    "    rever = reverse(slow)\n",
    "    while rever:\n",
    "        if rever.val != head.val:\n",
    "            return False\n",
    "        rever = rever.next\n",
    "        head = head.next\n",
    "    return True"
   ]
  },
  {
   "cell_type": "markdown",
   "id": "00678de6",
   "metadata": {},
   "source": [
    "#### 2130 孪生数对和"
   ]
  },
  {
   "cell_type": "code",
   "execution_count": 25,
   "id": "f54ed86f",
   "metadata": {},
   "outputs": [],
   "source": [
    "class ListNode:\n",
    "    def __init__(self, val: int, next: \"ListNode\" = None):\n",
    "        self.val = val\n",
    "        self.next = next\n",
    "\n",
    "\n",
    "def pairSum(self, head: Optional[ListNode]) -> int:\n",
    "    def reverse(node: ListNode) -> ListNode:\n",
    "        dummy = None\n",
    "        while node:\n",
    "            tmp = node\n",
    "            node = node.next\n",
    "            tmp.next = dummy\n",
    "            dummy = tmp\n",
    "        return dummy\n",
    "\n",
    "    slow = head\n",
    "    fast = head\n",
    "    while fast and fast.next:\n",
    "        slow = slow.next\n",
    "        fast = fast.next.next\n",
    "    rev = reverse(slow)\n",
    "    sum_value = 0\n",
    "    while rev:\n",
    "        sum_value = max(sum_value, rev.val + head.val)\n",
    "        rev = rev.next\n",
    "        head = head.next\n",
    "    return sum_value"
   ]
  },
  {
   "cell_type": "markdown",
   "id": "cd6c481c",
   "metadata": {},
   "source": [
    "#### 134 重排列表"
   ]
  },
  {
   "cell_type": "code",
   "execution_count": null,
   "id": "8e095f5b",
   "metadata": {},
   "outputs": [],
   "source": [
    "class ListNode:\n",
    "    def __init__(self, val: int, next: \"ListNode\" = None):\n",
    "        self.val = val\n",
    "        self.next = next\n",
    "\n",
    "\n",
    "def reorderList(self, head: Optional[ListNode]) -> None:\n",
    "    def reverse(node: ListNode) -> ListNode:\n",
    "        dummy = None\n",
    "        while node:\n",
    "            tmp = node\n",
    "            node = node.next\n",
    "            tmp.next = dummy\n",
    "            dummy = tmp\n",
    "        return dummy\n",
    "\n",
    "    if not head or not head.next or not head.next.next:\n",
    "        return\n",
    "    slow = head\n",
    "    fast = head\n",
    "    while fast and fast.next:\n",
    "        slow = slow.next\n",
    "        fast = fast.next.next\n",
    "    rev = reverse(slow)\n",
    "    tmp = head\n",
    "    while rev:\n",
    "        tp = rev\n",
    "        rev = rev.next\n",
    "        nxt = tmp.next\n",
    "        tmp.next = tp\n",
    "        tp.next = nxt\n",
    "        tmp = tmp.next.next"
   ]
  },
  {
   "cell_type": "markdown",
   "id": "851c85e6",
   "metadata": {},
   "source": [
    "#### 链表是否有环"
   ]
  },
  {
   "cell_type": "code",
   "execution_count": 27,
   "id": "3c8d993f",
   "metadata": {},
   "outputs": [],
   "source": [
    "class Solution:\n",
    "    def hasCycle(self, head: Optional[ListNode]) -> bool:\n",
    "        if not head or not head.next:\n",
    "            return False\n",
    "        slow = head\n",
    "        fast = head\n",
    "        while fast and fast.next:\n",
    "            slow = slow.next\n",
    "            fast = fast.next.next\n",
    "            if fast == slow:\n",
    "                return True\n",
    "        return False"
   ]
  },
  {
   "cell_type": "markdown",
   "id": "37a7fcbc",
   "metadata": {},
   "source": [
    "#### 环形链表2"
   ]
  },
  {
   "cell_type": "code",
   "execution_count": null,
   "id": "76f6ab32",
   "metadata": {},
   "outputs": [],
   "source": [
    "class Solution:\n",
    "    def detectCycle(self, head: Optional[ListNode]) -> Optional[ListNode]:\n",
    "        if not head or not head.next:\n",
    "            return None\n",
    "        slow = head\n",
    "        fast = head\n",
    "        while fast and fast.next:\n",
    "            slow = slow.next\n",
    "            fast = fast.next.next\n",
    "            if fast == slow:\n",
    "                slow = head\n",
    "                while slow != fast:\n",
    "                    slow = slow.next\n",
    "                    fast = fast.next\n",
    "                return slow\n",
    "        return None"
   ]
  },
  {
   "cell_type": "markdown",
   "id": "abee724e",
   "metadata": {},
   "source": [
    "#### 环形数组是否存在环"
   ]
  },
  {
   "cell_type": "code",
   "execution_count": null,
   "id": "f5c9ac60",
   "metadata": {},
   "outputs": [],
   "source": [
    "class Solution:\n",
    "    def circularArrayLoop(self, nums: List[int]) -> bool:\n",
    "        n = len(nums)\n",
    "\n",
    "        def next(cur: int) -> int:\n",
    "            return (cur + nums[cur]) % n  # 保证返回值在 [0,n) 中\n",
    "\n",
    "        for i, num in enumerate(nums):\n",
    "            if num == 0:\n",
    "                continue\n",
    "            slow, fast = i, next(i)\n",
    "            # 判断非零且方向相同\n",
    "            while nums[slow] * nums[fast] > 0 and nums[slow] * nums[next(fast)] > 0:\n",
    "                if slow == fast:\n",
    "                    if slow == next(slow):\n",
    "                        break\n",
    "                    return True\n",
    "                slow = next(slow)\n",
    "                fast = next(next(fast))\n",
    "            add = i\n",
    "            while nums[add] * nums[next(add)] > 0:\n",
    "                tmp = add\n",
    "                add = next(add)\n",
    "                nums[tmp] = 0\n",
    "        return False"
   ]
  }
 ],
 "metadata": {
  "kernelspec": {
   "display_name": ".venv",
   "language": "python",
   "name": "python3"
  },
  "language_info": {
   "codemirror_mode": {
    "name": "ipython",
    "version": 3
   },
   "file_extension": ".py",
   "mimetype": "text/x-python",
   "name": "python",
   "nbconvert_exporter": "python",
   "pygments_lexer": "ipython3",
   "version": "3.9.6"
  }
 },
 "nbformat": 4,
 "nbformat_minor": 5
}
