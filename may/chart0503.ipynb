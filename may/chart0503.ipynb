{
 "cells": [
  {
   "metadata": {},
   "cell_type": "code",
   "outputs": [],
   "execution_count": null,
   "source": [
    "from typing import Optional\n",
    "\n",
    "\n",
    "class TreeNode:\n",
    "    def __init__(self, val=0, left=None, right=None):\n",
    "        self.val = val\n",
    "        self.left = left\n",
    "        self.right = right\n",
    "\n",
    "\n",
    "class Solution538:\n",
    "    def convertBST(self, root: Optional[TreeNode]) -> Optional[TreeNode]:\n",
    "        sum: int = 0\n",
    "\n",
    "        def dfs(node: Optional[TreeNode]):\n",
    "            nonlocal sum\n",
    "            if not node:\n",
    "                return\n",
    "            dfs(node.right)\n",
    "            sum += node.val\n",
    "            node.val = sum\n",
    "            dfs(node.left)\n",
    "\n",
    "        dfs(root)\n",
    "        return root"
   ],
   "id": "ad5e63af53d716e9"
  },
  {
   "metadata": {},
   "cell_type": "code",
   "outputs": [],
   "execution_count": null,
   "source": "",
   "id": "28656821078e739c"
  }
 ],
 "metadata": {},
 "nbformat": 4,
 "nbformat_minor": 5
}
