{
 "cells": [
  {
   "metadata": {},
   "cell_type": "code",
   "outputs": [],
   "execution_count": null,
   "source": [
    "class Solution838:\n",
    "    def pushDominoes(self, dominoes: str) -> str:\n",
    "        str_list = list(\"L\" + dominoes + \"R\")\n",
    "        pre = 0\n",
    "        for i, char in enumerate(str_list):\n",
    "            if char == '.':\n",
    "                continue\n",
    "            if char == str_list[pre]:\n",
    "                str_list[pre + 1: i] = [char] * (i - pre - 1)\n",
    "            elif char == 'L':\n",
    "                m = (i + pre - 1) // 2\n",
    "                str_list[pre + 1: m + 1] = \"R\" * (m - pre)\n",
    "                m = (i + pre) // 2 + 1\n",
    "                str_list[m: i] = \"L\" * (i - m)\n",
    "            pre = i\n",
    "        return \"\".join(str_list)[1:-1]\n",
    "\n",
    "[1,0,0,-1]\n"
   ],
   "id": "e6eb1c5282f57b62"
  },
  {
   "metadata": {},
   "cell_type": "code",
   "outputs": [],
   "execution_count": null,
   "source": "",
   "id": "fe21fe843e8b80eb"
  }
 ],
 "metadata": {},
 "nbformat": 4,
 "nbformat_minor": 5
}
